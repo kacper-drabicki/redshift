{
 "cells": [
  {
   "cell_type": "code",
   "execution_count": 9,
   "id": "054490f9-aaef-4d56-8194-579ff135644f",
   "metadata": {},
   "outputs": [],
   "source": [
    "import pandas as pd\n",
    "import numpy as np\n",
    "import matplotlib.pyplot as plt"
   ]
  },
  {
   "cell_type": "code",
   "execution_count": 3,
   "id": "9ebb2f29-f493-4051-b77a-876d7e1d72c8",
   "metadata": {},
   "outputs": [],
   "source": [
    "dataframes = []\n",
    "for i in range(1,6):\n",
    "    df = pd.read_csv(f\"../dataframes/experiment2/ANN_{i}.csv\", index_col=0)\n",
    "    df = df.loc[df[\"split\"]==\"test\",[\"Z\",\"Z_pred\",\"faint\"]]\n",
    "    dataframes.append(df)"
   ]
  },
  {
   "cell_type": "code",
   "execution_count": 6,
   "id": "e9fce685-6be2-4b9d-81f9-e476ee076be4",
   "metadata": {},
   "outputs": [],
   "source": [
    "df = dataframes[0]\n",
    "test_df = df.loc[~df[\"faint\"]]\n",
    "faint_df = df.loc[df[\"faint\"]]"
   ]
  },
  {
   "cell_type": "code",
   "execution_count": 24,
   "id": "c2302010-8230-4736-8725-04188bed1bc0",
   "metadata": {},
   "outputs": [
    {
     "data": {
      "image/png": "[encoded data removed]",
      "text/plain": [
       "<Figure size 640x480 with 1 Axes>"
      ]
     },
     "metadata": {},
     "output_type": "display_data"
    }
   ],
   "source": [
    "plt.hist(test_df[\"Z_pred\"], bins=np.arange(0,5,0.05), histtype='step', label=\"Pred\")\n",
    "plt.hist(test_df[\"Z\"], bins=np.arange(0,5,0.05), histtype='step', label=\"True\")\n",
    "plt.legend()\n",
    "plt.show()"
   ]
  },
  {
   "cell_type": "code",
   "execution_count": 29,
   "id": "be9faf16-6427-43f6-a949-8234fdc82e8d",
   "metadata": {},
   "outputs": [
    {
     "data": {
      "text/html": [
       "<div>\n",
       "<style scoped>\n",
       "    .dataframe tbody tr th:only-of-type {\n",
       "        vertical-align: middle;\n",
       "    }\n",
       "\n",
       "    .dataframe tbody tr th {\n",
       "        vertical-align: top;\n",
       "    }\n",
       "\n",
       "    .dataframe thead th {\n",
       "        text-align: right;\n",
       "    }\n",
       "</style>\n",
       "<table border=\"1\" class=\"dataframe\">\n",
       "  <thead>\n",
       "    <tr style=\"text-align: right;\">\n",
       "      <th></th>\n",
       "      <th>Z</th>\n",
       "      <th>Z_pred</th>\n",
       "      <th>faint</th>\n",
       "    </tr>\n",
       "  </thead>\n",
       "  <tbody>\n",
       "    <tr>\n",
       "      <th>75</th>\n",
       "      <td>1.563927</td>\n",
       "      <td>1.561041</td>\n",
       "      <td>False</td>\n",
       "    </tr>\n",
       "    <tr>\n",
       "      <th>155</th>\n",
       "      <td>1.565321</td>\n",
       "      <td>1.910891</td>\n",
       "      <td>False</td>\n",
       "    </tr>\n",
       "    <tr>\n",
       "      <th>204</th>\n",
       "      <td>1.882272</td>\n",
       "      <td>1.919707</td>\n",
       "      <td>True</td>\n",
       "    </tr>\n",
       "    <tr>\n",
       "      <th>302</th>\n",
       "      <td>2.459503</td>\n",
       "      <td>2.342953</td>\n",
       "      <td>True</td>\n",
       "    </tr>\n",
       "    <tr>\n",
       "      <th>318</th>\n",
       "      <td>2.712126</td>\n",
       "      <td>2.656586</td>\n",
       "      <td>False</td>\n",
       "    </tr>\n",
       "    <tr>\n",
       "      <th>...</th>\n",
       "      <td>...</td>\n",
       "      <td>...</td>\n",
       "      <td>...</td>\n",
       "    </tr>\n",
       "    <tr>\n",
       "      <th>2648757</th>\n",
       "      <td>2.333216</td>\n",
       "      <td>2.009297</td>\n",
       "      <td>True</td>\n",
       "    </tr>\n",
       "    <tr>\n",
       "      <th>2648849</th>\n",
       "      <td>1.234026</td>\n",
       "      <td>1.266554</td>\n",
       "      <td>False</td>\n",
       "    </tr>\n",
       "    <tr>\n",
       "      <th>2649006</th>\n",
       "      <td>1.923395</td>\n",
       "      <td>1.949997</td>\n",
       "      <td>False</td>\n",
       "    </tr>\n",
       "    <tr>\n",
       "      <th>2649069</th>\n",
       "      <td>1.721385</td>\n",
       "      <td>1.868718</td>\n",
       "      <td>False</td>\n",
       "    </tr>\n",
       "    <tr>\n",
       "      <th>2649258</th>\n",
       "      <td>2.591902</td>\n",
       "      <td>2.237916</td>\n",
       "      <td>True</td>\n",
       "    </tr>\n",
       "  </tbody>\n",
       "</table>\n",
       "<p>22165 rows × 3 columns</p>\n",
       "</div>"
      ],
      "text/plain": [
       "                Z    Z_pred  faint\n",
       "75       1.563927  1.561041  False\n",
       "155      1.565321  1.910891  False\n",
       "204      1.882272  1.919707   True\n",
       "302      2.459503  2.342953   True\n",
       "318      2.712126  2.656586  False\n",
       "...           ...       ...    ...\n",
       "2648757  2.333216  2.009297   True\n",
       "2648849  1.234026  1.266554  False\n",
       "2649006  1.923395  1.949997  False\n",
       "2649069  1.721385  1.868718  False\n",
       "2649258  2.591902  2.237916   True\n",
       "\n",
       "[22165 rows x 3 columns]"
      ]
     },
     "execution_count": 29,
     "metadata": {},
     "output_type": "execute_result"
    }
   ],
   "source": [
    "df"
   ]
  },
  {
   "cell_type": "code",
   "execution_count": 30,
   "id": "2539714d-3920-4fab-a2bd-897a8564c38e",
   "metadata": {},
   "outputs": [],
   "source": [
    "df = pd.read_csv(f\"../dataframes/experiment2/ANN_1.csv\", index_col=0)"
   ]
  },
  {
   "cell_type": "code",
   "execution_count": null,
   "id": "a201d828-6ca2-4ab8-948c-27ff5cc3853f",
   "metadata": {},
   "outputs": [],
   "source": []
  }
 ],
 "metadata": {
  "kernelspec": {
   "display_name": "Python 3 (ipykernel)",
   "language": "python",
   "name": "python3"
  },
  "language_info": {
   "codemirror_mode": {
    "name": "ipython",
    "version": 3
   },
   "file_extension": ".py",
   "mimetype": "text/x-python",
   "name": "python",
   "nbconvert_exporter": "python",
   "pygments_lexer": "ipython3",
   "version": "3.12.11"
  }
 },
 "nbformat": 4,
 "nbformat_minor": 5
}
