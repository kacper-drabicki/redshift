{
 "cells": [
  {
   "cell_type": "code",
   "execution_count": 1,
   "id": "82a693c9-00a6-4e71-a7a4-ab4bc7987a6f",
   "metadata": {},
   "outputs": [],
   "source": [
    "import sys\n",
    "sys.path.append(\"..\")\n",
    "\n",
    "import compare_models"
   ]
  },
  {
   "cell_type": "code",
   "execution_count": 2,
   "id": "9cd1bc1b-7657-4535-81af-edeff810a6b2",
   "metadata": {},
   "outputs": [],
   "source": [
    "comparator = compare_models.CompareModels(r\"../../metrics/experiment2\")\n",
    "test, faint = comparator.getResults()\n",
    "\n",
    "# order = [\"single_gauss\", \"double_gauss\", \"triple_gauss\"]\n",
    "# test, faint = test.reindex(order), faint.reindex(order)"
   ]
  },
  {
   "cell_type": "code",
   "execution_count": 3,
   "id": "47398e35-c7ae-4aa1-83e0-c2080d1b081a",
   "metadata": {},
   "outputs": [
    {
     "name": "stdout",
     "output_type": "stream",
     "text": [
      "Random test\n"
     ]
    },
    {
     "data": {
      "text/html": [
       "<div>\n",
       "<style scoped>\n",
       "    .dataframe tbody tr th:only-of-type {\n",
       "        vertical-align: middle;\n",
       "    }\n",
       "\n",
       "    .dataframe tbody tr th {\n",
       "        vertical-align: top;\n",
       "    }\n",
       "\n",
       "    .dataframe thead th {\n",
       "        text-align: right;\n",
       "    }\n",
       "</style>\n",
       "<table border=\"1\" class=\"dataframe\">\n",
       "  <thead>\n",
       "    <tr style=\"text-align: right;\">\n",
       "      <th></th>\n",
       "      <th>MSE</th>\n",
       "      <th>R^2</th>\n",
       "      <th>NLL</th>\n",
       "    </tr>\n",
       "    <tr>\n",
       "      <th>model_name</th>\n",
       "      <th></th>\n",
       "      <th></th>\n",
       "      <th></th>\n",
       "    </tr>\n",
       "  </thead>\n",
       "  <tbody>\n",
       "    <tr>\n",
       "      <th>ANN</th>\n",
       "      <td>0.103878</td>\n",
       "      <td>0.814649</td>\n",
       "      <td>NaN</td>\n",
       "    </tr>\n",
       "    <tr>\n",
       "      <th>MG_1_components</th>\n",
       "      <td>0.103235</td>\n",
       "      <td>0.815796</td>\n",
       "      <td>-0.142893</td>\n",
       "    </tr>\n",
       "    <tr>\n",
       "      <th>MG_2_components</th>\n",
       "      <td>0.092255</td>\n",
       "      <td>0.835388</td>\n",
       "      <td>-0.666300</td>\n",
       "    </tr>\n",
       "    <tr>\n",
       "      <th>MG_2_components+errs</th>\n",
       "      <td>0.092879</td>\n",
       "      <td>0.834275</td>\n",
       "      <td>-0.674892</td>\n",
       "    </tr>\n",
       "    <tr>\n",
       "      <th>MG_3_components</th>\n",
       "      <td>0.094085</td>\n",
       "      <td>0.832123</td>\n",
       "      <td>-0.691918</td>\n",
       "    </tr>\n",
       "    <tr>\n",
       "      <th>MG_3_components+mode</th>\n",
       "      <td>0.122767</td>\n",
       "      <td>0.780945</td>\n",
       "      <td>-0.691918</td>\n",
       "    </tr>\n",
       "    <tr>\n",
       "      <th>MG_4_components</th>\n",
       "      <td>0.094106</td>\n",
       "      <td>0.832086</td>\n",
       "      <td>-0.663337</td>\n",
       "    </tr>\n",
       "    <tr>\n",
       "      <th>MG_5_components</th>\n",
       "      <td>0.094370</td>\n",
       "      <td>0.831615</td>\n",
       "      <td>-0.639555</td>\n",
       "    </tr>\n",
       "  </tbody>\n",
       "</table>\n",
       "</div>"
      ],
      "text/plain": [
       "                           MSE       R^2       NLL\n",
       "model_name                                        \n",
       "ANN                   0.103878  0.814649       NaN\n",
       "MG_1_components       0.103235  0.815796 -0.142893\n",
       "MG_2_components       0.092255  0.835388 -0.666300\n",
       "MG_2_components+errs  0.092879  0.834275 -0.674892\n",
       "MG_3_components       0.094085  0.832123 -0.691918\n",
       "MG_3_components+mode  0.122767  0.780945 -0.691918\n",
       "MG_4_components       0.094106  0.832086 -0.663337\n",
       "MG_5_components       0.094370  0.831615 -0.639555"
      ]
     },
     "execution_count": 3,
     "metadata": {},
     "output_type": "execute_result"
    }
   ],
   "source": [
    "print(\"Random test\")\n",
    "test"
   ]
  },
  {
   "cell_type": "code",
   "execution_count": 4,
   "id": "8e16e8bc-07af-48de-b013-d0b1eb083271",
   "metadata": {},
   "outputs": [
    {
     "name": "stdout",
     "output_type": "stream",
     "text": [
      "Faint\n"
     ]
    },
    {
     "data": {
      "text/html": [
       "<div>\n",
       "<style scoped>\n",
       "    .dataframe tbody tr th:only-of-type {\n",
       "        vertical-align: middle;\n",
       "    }\n",
       "\n",
       "    .dataframe tbody tr th {\n",
       "        vertical-align: top;\n",
       "    }\n",
       "\n",
       "    .dataframe thead th {\n",
       "        text-align: right;\n",
       "    }\n",
       "</style>\n",
       "<table border=\"1\" class=\"dataframe\">\n",
       "  <thead>\n",
       "    <tr style=\"text-align: right;\">\n",
       "      <th></th>\n",
       "      <th>MSE</th>\n",
       "      <th>R^2</th>\n",
       "      <th>NLL</th>\n",
       "    </tr>\n",
       "    <tr>\n",
       "      <th>model_name</th>\n",
       "      <th></th>\n",
       "      <th></th>\n",
       "      <th></th>\n",
       "    </tr>\n",
       "  </thead>\n",
       "  <tbody>\n",
       "    <tr>\n",
       "      <th>ANN</th>\n",
       "      <td>0.228153</td>\n",
       "      <td>0.330403</td>\n",
       "      <td>NaN</td>\n",
       "    </tr>\n",
       "    <tr>\n",
       "      <th>MG_1_components</th>\n",
       "      <td>0.219181</td>\n",
       "      <td>0.356735</td>\n",
       "      <td>0.467407</td>\n",
       "    </tr>\n",
       "    <tr>\n",
       "      <th>MG_2_components</th>\n",
       "      <td>0.213090</td>\n",
       "      <td>0.374613</td>\n",
       "      <td>0.283395</td>\n",
       "    </tr>\n",
       "    <tr>\n",
       "      <th>MG_2_components+errs</th>\n",
       "      <td>0.213891</td>\n",
       "      <td>0.372262</td>\n",
       "      <td>0.294699</td>\n",
       "    </tr>\n",
       "    <tr>\n",
       "      <th>MG_3_components</th>\n",
       "      <td>0.214645</td>\n",
       "      <td>0.370049</td>\n",
       "      <td>0.237744</td>\n",
       "    </tr>\n",
       "    <tr>\n",
       "      <th>MG_3_components+mode</th>\n",
       "      <td>0.241790</td>\n",
       "      <td>0.290382</td>\n",
       "      <td>0.237744</td>\n",
       "    </tr>\n",
       "    <tr>\n",
       "      <th>MG_4_components</th>\n",
       "      <td>0.215004</td>\n",
       "      <td>0.368994</td>\n",
       "      <td>0.239241</td>\n",
       "    </tr>\n",
       "    <tr>\n",
       "      <th>MG_5_components</th>\n",
       "      <td>0.216531</td>\n",
       "      <td>0.364515</td>\n",
       "      <td>0.246389</td>\n",
       "    </tr>\n",
       "  </tbody>\n",
       "</table>\n",
       "</div>"
      ],
      "text/plain": [
       "                           MSE       R^2       NLL\n",
       "model_name                                        \n",
       "ANN                   0.228153  0.330403       NaN\n",
       "MG_1_components       0.219181  0.356735  0.467407\n",
       "MG_2_components       0.213090  0.374613  0.283395\n",
       "MG_2_components+errs  0.213891  0.372262  0.294699\n",
       "MG_3_components       0.214645  0.370049  0.237744\n",
       "MG_3_components+mode  0.241790  0.290382  0.237744\n",
       "MG_4_components       0.215004  0.368994  0.239241\n",
       "MG_5_components       0.216531  0.364515  0.246389"
      ]
     },
     "execution_count": 4,
     "metadata": {},
     "output_type": "execute_result"
    }
   ],
   "source": [
    "print(\"Faint\")\n",
    "faint"
   ]
  },
  {
   "cell_type": "code",
   "execution_count": null,
   "id": "0af393e9-7c98-4cec-a282-b174eb44e0e4",
   "metadata": {},
   "outputs": [],
   "source": []
  },
  {
   "cell_type": "raw",
   "id": "1f0628ca-7f15-432e-bb08-0c89752883f1",
   "metadata": {},
   "source": []
  },
  {
   "cell_type": "code",
   "execution_count": null,
   "id": "a3e95812-ea9a-4aae-9665-5ed48babd764",
   "metadata": {},
   "outputs": [],
   "source": []
  }
 ],
 "metadata": {
  "kernelspec": {
   "display_name": "Python 3 (ipykernel)",
   "language": "python",
   "name": "python3"
  },
  "language_info": {
   "codemirror_mode": {
    "name": "ipython",
    "version": 3
   },
   "file_extension": ".py",
   "mimetype": "text/x-python",
   "name": "python",
   "nbconvert_exporter": "python",
   "pygments_lexer": "ipython3",
   "version": "3.12.11"
  }
 },
 "nbformat": 4,
 "nbformat_minor": 5
}
