{
 "cells": [
  {
   "cell_type": "code",
   "execution_count": 21,
   "id": "82a693c9-00a6-4e71-a7a4-ab4bc7987a6f",
   "metadata": {},
   "outputs": [],
   "source": [
    "import sys\n",
    "sys.path.append(\"..\")\n",
    "\n",
    "import compare_models"
   ]
  },
  {
   "cell_type": "code",
   "execution_count": 22,
   "id": "9cd1bc1b-7657-4535-81af-edeff810a6b2",
   "metadata": {},
   "outputs": [],
   "source": [
    "comparator = compare_models.CompareModels(r\"../../metrics\")\n",
    "test, faint = comparator.getResults()\n",
    "\n",
    "order = [\"single_gauss\", \"double_gauss\", \"triple_gauss\"]\n",
    "test, faint = test.reindex(order), faint.reindex(order)"
   ]
  },
  {
   "cell_type": "code",
   "execution_count": 23,
   "id": "47398e35-c7ae-4aa1-83e0-c2080d1b081a",
   "metadata": {},
   "outputs": [
    {
     "name": "stdout",
     "output_type": "stream",
     "text": [
      "Random test\n"
     ]
    },
    {
     "data": {
      "text/html": [
       "<div>\n",
       "<style scoped>\n",
       "    .dataframe tbody tr th:only-of-type {\n",
       "        vertical-align: middle;\n",
       "    }\n",
       "\n",
       "    .dataframe tbody tr th {\n",
       "        vertical-align: top;\n",
       "    }\n",
       "\n",
       "    .dataframe thead th {\n",
       "        text-align: right;\n",
       "    }\n",
       "</style>\n",
       "<table border=\"1\" class=\"dataframe\">\n",
       "  <thead>\n",
       "    <tr style=\"text-align: right;\">\n",
       "      <th></th>\n",
       "      <th>MSE</th>\n",
       "      <th>R^2</th>\n",
       "      <th>NLL</th>\n",
       "    </tr>\n",
       "    <tr>\n",
       "      <th>model_name</th>\n",
       "      <th></th>\n",
       "      <th></th>\n",
       "      <th></th>\n",
       "    </tr>\n",
       "  </thead>\n",
       "  <tbody>\n",
       "    <tr>\n",
       "      <th>single_gauss</th>\n",
       "      <td>0.097607</td>\n",
       "      <td>0.825839</td>\n",
       "      <td>-0.174682</td>\n",
       "    </tr>\n",
       "    <tr>\n",
       "      <th>double_gauss</th>\n",
       "      <td>0.093189</td>\n",
       "      <td>0.833722</td>\n",
       "      <td>-0.656501</td>\n",
       "    </tr>\n",
       "    <tr>\n",
       "      <th>triple_gauss</th>\n",
       "      <td>0.093072</td>\n",
       "      <td>0.833931</td>\n",
       "      <td>-0.653799</td>\n",
       "    </tr>\n",
       "  </tbody>\n",
       "</table>\n",
       "</div>"
      ],
      "text/plain": [
       "                   MSE       R^2       NLL\n",
       "model_name                                \n",
       "single_gauss  0.097607  0.825839 -0.174682\n",
       "double_gauss  0.093189  0.833722 -0.656501\n",
       "triple_gauss  0.093072  0.833931 -0.653799"
      ]
     },
     "execution_count": 23,
     "metadata": {},
     "output_type": "execute_result"
    }
   ],
   "source": [
    "print(\"Random test\")\n",
    "test"
   ]
  },
  {
   "cell_type": "code",
   "execution_count": 24,
   "id": "8e16e8bc-07af-48de-b013-d0b1eb083271",
   "metadata": {},
   "outputs": [
    {
     "name": "stdout",
     "output_type": "stream",
     "text": [
      "Faint\n"
     ]
    },
    {
     "data": {
      "text/html": [
       "<div>\n",
       "<style scoped>\n",
       "    .dataframe tbody tr th:only-of-type {\n",
       "        vertical-align: middle;\n",
       "    }\n",
       "\n",
       "    .dataframe tbody tr th {\n",
       "        vertical-align: top;\n",
       "    }\n",
       "\n",
       "    .dataframe thead th {\n",
       "        text-align: right;\n",
       "    }\n",
       "</style>\n",
       "<table border=\"1\" class=\"dataframe\">\n",
       "  <thead>\n",
       "    <tr style=\"text-align: right;\">\n",
       "      <th></th>\n",
       "      <th>MSE</th>\n",
       "      <th>R^2</th>\n",
       "      <th>NLL</th>\n",
       "    </tr>\n",
       "    <tr>\n",
       "      <th>model_name</th>\n",
       "      <th></th>\n",
       "      <th></th>\n",
       "      <th></th>\n",
       "    </tr>\n",
       "  </thead>\n",
       "  <tbody>\n",
       "    <tr>\n",
       "      <th>single_gauss</th>\n",
       "      <td>0.215438</td>\n",
       "      <td>0.368892</td>\n",
       "      <td>0.528413</td>\n",
       "    </tr>\n",
       "    <tr>\n",
       "      <th>double_gauss</th>\n",
       "      <td>0.217417</td>\n",
       "      <td>0.363091</td>\n",
       "      <td>0.317292</td>\n",
       "    </tr>\n",
       "    <tr>\n",
       "      <th>triple_gauss</th>\n",
       "      <td>0.218361</td>\n",
       "      <td>0.360328</td>\n",
       "      <td>0.265401</td>\n",
       "    </tr>\n",
       "  </tbody>\n",
       "</table>\n",
       "</div>"
      ],
      "text/plain": [
       "                   MSE       R^2       NLL\n",
       "model_name                                \n",
       "single_gauss  0.215438  0.368892  0.528413\n",
       "double_gauss  0.217417  0.363091  0.317292\n",
       "triple_gauss  0.218361  0.360328  0.265401"
      ]
     },
     "execution_count": 24,
     "metadata": {},
     "output_type": "execute_result"
    }
   ],
   "source": [
    "print(\"Faint\")\n",
    "faint"
   ]
  },
  {
   "cell_type": "code",
   "execution_count": null,
   "id": "0af393e9-7c98-4cec-a282-b174eb44e0e4",
   "metadata": {},
   "outputs": [],
   "source": []
  }
 ],
 "metadata": {
  "kernelspec": {
   "display_name": "Python 3 (ipykernel)",
   "language": "python",
   "name": "python3"
  },
  "language_info": {
   "codemirror_mode": {
    "name": "ipython",
    "version": 3
   },
   "file_extension": ".py",
   "mimetype": "text/x-python",
   "name": "python",
   "nbconvert_exporter": "python",
   "pygments_lexer": "ipython3",
   "version": "3.12.11"
  }
 },
 "nbformat": 4,
 "nbformat_minor": 5
}
