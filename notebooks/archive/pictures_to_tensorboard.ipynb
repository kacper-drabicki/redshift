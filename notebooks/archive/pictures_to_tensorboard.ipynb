{
 "cells": [
  {
   "cell_type": "code",
   "execution_count": 124,
   "id": "9f573a1b-020a-4239-859f-5ea7aca90cae",
   "metadata": {},
   "outputs": [],
   "source": [
    "import tensorflow as tf\n",
    "import tf_keras\n",
    "from tf_keras.layers import Dense\n",
    "import numpy as np\n",
    "import matplotlib.pyplot as plt\n",
    "from datetime import datetime\n",
    "import io"
   ]
  },
  {
   "cell_type": "code",
   "execution_count": 125,
   "id": "aab1c966-b6d1-4850-948d-14029617d6e0",
   "metadata": {},
   "outputs": [],
   "source": [
    "def plot_to_image(figure):\n",
    "  buf = io.BytesIO()\n",
    "  plt.savefig(buf, format='png')\n",
    "  plt.close(figure)\n",
    "  buf.seek(0)\n",
    "  image = tf.image.decode_png(buf.getvalue(), channels=4)\n",
    "  image = tf.expand_dims(image, 0)\n",
    "  return image"
   ]
  },
  {
   "cell_type": "code",
   "execution_count": 126,
   "id": "e8982abb-9315-4bba-896b-710af4e4748e",
   "metadata": {},
   "outputs": [],
   "source": [
    "X_train = np.random.rand(100,1) * 10\n",
    "y_train = 2 * X_train + 1\n",
    "X_val = X_train\n",
    "y_val = y_train"
   ]
  },
  {
   "cell_type": "code",
   "execution_count": 127,
   "id": "02c20e11-7548-4889-8126-47e536ba693c",
   "metadata": {},
   "outputs": [],
   "source": [
    "model = tf_keras.Sequential([Dense(10, activation=\"relu\", input_shape=(1,)),\n",
    "                             Dense(10, activation=\"relu\"),\n",
    "                             Dense(1, activation=\"linear\")])\n",
    "\n",
    "model.compile(optimizer=tf_keras.optimizers.Adam(learning_rate=1E-3),\n",
    "              loss=\"mse\")"
   ]
  },
  {
   "cell_type": "code",
   "execution_count": 128,
   "id": "3c093aed-a806-4b01-ac6f-2c5e0cfd124e",
   "metadata": {},
   "outputs": [],
   "source": [
    "logdir = \"../logs/pictures/\" + datetime.now().strftime(\"%Y%m%d-%H%M%S\")\n",
    "file_writer = tf.summary.create_file_writer(logdir)\n",
    "\n",
    "def plot(X_train, y_train, X_val, y_pred):\n",
    "    fig, ax = plt.subplots(figsize=(5,4))\n",
    "    \n",
    "    ax.plot(X_train, y_train, label=\"true\")\n",
    "    ax.plot(X_val, y_pred, label=\"pred\")\n",
    "    ax.set_xlabel(\"x\")\n",
    "    ax.set_ylabel(\"y\")\n",
    "    ax.legend()\n",
    "    \n",
    "    return fig\n",
    "\n",
    "def log_plot(epoch, logs):\n",
    "    y_pred = model.predict(X_val)\n",
    "    figure = plot(X_train, y_train, X_val, y_pred)\n",
    "    image = plot_to_image(figure)\n",
    "    with file_writer.as_default():\n",
    "        tf.summary.image(\"plot\", image, step=epoch)\n",
    "    \n",
    "\n",
    "plot_callback = tf_keras.callbacks.LambdaCallback(on_epoch_end=log_plot)"
   ]
  },
  {
   "cell_type": "code",
   "execution_count": 129,
   "id": "312041da-e352-4957-92e1-c9c83d005600",
   "metadata": {},
   "outputs": [
    {
     "name": "stdout",
     "output_type": "stream",
     "text": [
      "4/4 [==============================] - 0s 391us/step\n",
      "4/4 [==============================] - 0s 444us/step\n",
      "4/4 [==============================] - 0s 372us/step\n",
      "4/4 [==============================] - 0s 375us/step\n",
      "4/4 [==============================] - 0s 367us/step\n",
      "4/4 [==============================] - 0s 342us/step\n",
      "4/4 [==============================] - 0s 420us/step\n",
      "4/4 [==============================] - 0s 382us/step\n",
      "4/4 [==============================] - 0s 357us/step\n",
      "4/4 [==============================] - 0s 339us/step\n",
      "4/4 [==============================] - 0s 429us/step\n",
      "4/4 [==============================] - 0s 360us/step\n",
      "4/4 [==============================] - 0s 406us/step\n",
      "4/4 [==============================] - 0s 361us/step\n",
      "4/4 [==============================] - 0s 355us/step\n",
      "4/4 [==============================] - 0s 371us/step\n",
      "4/4 [==============================] - 0s 348us/step\n",
      "4/4 [==============================] - 0s 366us/step\n",
      "4/4 [==============================] - 0s 356us/step\n",
      "4/4 [==============================] - 0s 356us/step\n",
      "4/4 [==============================] - 0s 359us/step\n",
      "4/4 [==============================] - 0s 348us/step\n",
      "4/4 [==============================] - 0s 341us/step\n",
      "4/4 [==============================] - 0s 347us/step\n",
      "4/4 [==============================] - 0s 327us/step\n",
      "4/4 [==============================] - 0s 501us/step - loss: 38.4252\n"
     ]
    },
    {
     "data": {
      "text/plain": [
       "38.42515563964844"
      ]
     },
     "execution_count": 129,
     "metadata": {},
     "output_type": "execute_result"
    }
   ],
   "source": [
    "model.fit(X_train, y_train, epochs=25, batch_size=32, verbose=0, callbacks=[plot_callback])\n",
    "model.evaluate(X_val, y_val)"
   ]
  },
  {
   "cell_type": "code",
   "execution_count": null,
   "id": "6de4409f-3192-4b03-9541-83a12b3f4670",
   "metadata": {},
   "outputs": [],
   "source": []
  },
  {
   "cell_type": "code",
   "execution_count": null,
   "id": "f5736e95-eb9c-4eb5-a1cd-651441182a34",
   "metadata": {},
   "outputs": [],
   "source": []
  },
  {
   "cell_type": "code",
   "execution_count": null,
   "id": "1fd81491-0991-4ba2-9ff8-1c5508cb394b",
   "metadata": {},
   "outputs": [],
   "source": []
  }
 ],
 "metadata": {
  "kernelspec": {
   "display_name": "Python 3 (ipykernel)",
   "language": "python",
   "name": "python3"
  },
  "language_info": {
   "codemirror_mode": {
    "name": "ipython",
    "version": 3
   },
   "file_extension": ".py",
   "mimetype": "text/x-python",
   "name": "python",
   "nbconvert_exporter": "python",
   "pygments_lexer": "ipython3",
   "version": "3.12.11"
  }
 },
 "nbformat": 4,
 "nbformat_minor": 5
}
