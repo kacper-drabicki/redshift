{
 "cells": [
  {
   "cell_type": "code",
   "execution_count": 1,
   "id": "c16cdc6e-8372-4fdc-818e-41ce9dc9ac54",
   "metadata": {},
   "outputs": [],
   "source": [
    "import pandas as pd\n",
    "import numpy as np\n",
    "from sklearn.metrics import mean_squared_error, r2_score"
   ]
  },
  {
   "cell_type": "code",
   "execution_count": 44,
   "id": "3a784be7-f49a-4780-960c-3ecfd66a0ab6",
   "metadata": {},
   "outputs": [],
   "source": [
    "dataframes = []\n",
    "for i in range(1,6):\n",
    "    df = pd.read_csv(f\"../../../dataframes/double_gauss_{i}\", index_col=0)\n",
    "    df = df.loc[df[\"split\"]==\"test\",[\"Z\",\"Z_pred\",\"Z_pred_std\",\"Z_spec_prob\",\"faint\"]]\n",
    "    dataframes.append(df)"
   ]
  },
  {
   "cell_type": "code",
   "execution_count": 45,
   "id": "3abee573-d547-427c-a794-b5bdda4f1aae",
   "metadata": {},
   "outputs": [],
   "source": [
    "mse = mean_squared_error\n",
    "r2 = r2_score"
   ]
  },
  {
   "cell_type": "code",
   "execution_count": 46,
   "id": "a0dca224-c761-47f2-9638-13995c0fa723",
   "metadata": {},
   "outputs": [],
   "source": [
    "test_mean_squared_errors = []\n",
    "test_r2_scores = []\n",
    "faint_mean_squared_errors = []\n",
    "faint_r2_scores = []\n",
    "test_probs = []\n",
    "faint_probs = []\n",
    "for df in dataframes:\n",
    "    test_df = df.loc[~df[\"faint\"]]\n",
    "    faint_df = df.loc[df[\"faint\"]]\n",
    "    \n",
    "    test_mean_squared_errors.append(mse(test_df[\"Z\"], test_df[\"Z_pred\"]))\n",
    "    test_r2_scores.append(r2(test_df[\"Z\"], test_df[\"Z_pred\"]))\n",
    "    faint_mean_squared_errors.append(mse(faint_df[\"Z\"], faint_df[\"Z_pred\"]))\n",
    "    faint_r2_scores.append(r2(faint_df[\"Z\"], faint_df[\"Z_pred\"]))\n",
    "\n",
    "    test_probs.append(test_df[\"Z_spec_prob\"])\n",
    "    faint_probs.append(faint_df[\"Z_spec_prob\"])\n",
    "\n",
    "test_mean_squared_error = np.array(test_mean_squared_errors).mean()\n",
    "test_r2_score = np.array(test_r2_scores).mean()\n",
    "faint_mean_squared_error = np.array(faint_mean_squared_errors).mean()\n",
    "faint_r2_score = np.array(faint_r2_scores).mean()"
   ]
  },
  {
   "cell_type": "code",
   "execution_count": 52,
   "id": "997c42fb-6d7b-4d70-b3cc-d19c9576c973",
   "metadata": {},
   "outputs": [
    {
     "data": {
      "text/plain": [
       "np.float64(3.802076639999999e-38)"
      ]
     },
     "execution_count": 52,
     "metadata": {},
     "output_type": "execute_result"
    }
   ],
   "source": [
    "np.array(faint_probs).mean(axis=0).min()"
   ]
  },
  {
   "cell_type": "code",
   "execution_count": 42,
   "id": "411ce23c-45a7-4bf4-b8bd-ac0be3b6c0f1",
   "metadata": {},
   "outputs": [],
   "source": [
    "epsilon = 1E-10\n",
    "test_NLL, faint_NLL = -np.log(np.clip(np.array(test_probs).mean(axis=0), epsilon, None)).mean(), -np.log(np.clip(np.array(faint_probs).mean(axis=0), epsilon, None)).mean()"
   ]
  },
  {
   "cell_type": "code",
   "execution_count": 43,
   "id": "56849845-e979-41fa-b3ba-b06c44329976",
   "metadata": {},
   "outputs": [
    {
     "data": {
      "text/html": [
       "<div>\n",
       "<style scoped>\n",
       "    .dataframe tbody tr th:only-of-type {\n",
       "        vertical-align: middle;\n",
       "    }\n",
       "\n",
       "    .dataframe tbody tr th {\n",
       "        vertical-align: top;\n",
       "    }\n",
       "\n",
       "    .dataframe thead th {\n",
       "        text-align: right;\n",
       "    }\n",
       "</style>\n",
       "<table border=\"1\" class=\"dataframe\">\n",
       "  <thead>\n",
       "    <tr style=\"text-align: right;\">\n",
       "      <th></th>\n",
       "      <th>MSE</th>\n",
       "      <th>R^2</th>\n",
       "      <th>NLL</th>\n",
       "    </tr>\n",
       "  </thead>\n",
       "  <tbody>\n",
       "    <tr>\n",
       "      <th>test</th>\n",
       "      <td>0.093072</td>\n",
       "      <td>0.833931</td>\n",
       "      <td>-0.653799</td>\n",
       "    </tr>\n",
       "    <tr>\n",
       "      <th>faint</th>\n",
       "      <td>0.218361</td>\n",
       "      <td>0.360328</td>\n",
       "      <td>0.243540</td>\n",
       "    </tr>\n",
       "  </tbody>\n",
       "</table>\n",
       "</div>"
      ],
      "text/plain": [
       "            MSE       R^2       NLL\n",
       "test   0.093072  0.833931 -0.653799\n",
       "faint  0.218361  0.360328  0.243540"
      ]
     },
     "execution_count": 43,
     "metadata": {},
     "output_type": "execute_result"
    }
   ],
   "source": [
    "pd.DataFrame({\"test\":\n",
    "                {\"MSE\": test_mean_squared_error,\n",
    "                \"R^2\": test_r2_score,\n",
    "                \"NLL\": test_NLL},\n",
    "                \"faint\":\n",
    "                {\"MSE\": faint_mean_squared_error,\n",
    "                \"R^2\": faint_r2_score,\n",
    "                \"NLL\": faint_NLL}\n",
    "               }).T"
   ]
  },
  {
   "cell_type": "code",
   "execution_count": 114,
   "id": "22e37058-2ecc-4e63-8278-eec706960dd9",
   "metadata": {},
   "outputs": [],
   "source": [
    "results = pd.DataFrame({\"test\":\n",
    "                {\"MSE\": test_mean_squared_error,\n",
    "                \"R^2\": test_r2_score,\n",
    "                \"NLL\": test_NLL},\n",
    "                \"faint\":\n",
    "                {\"MSE\": faint_mean_squared_error,\n",
    "                \"R^2\": faint_r2_score,\n",
    "                \"NLL\": faint_NLL}\n",
    "               }).T\n",
    "\n",
    "# results.to_csv(\"../metrics/double_gauss\")"
   ]
  },
  {
   "cell_type": "code",
   "execution_count": null,
   "id": "a01bb064-0d13-448d-ba4d-3669014c2087",
   "metadata": {},
   "outputs": [],
   "source": []
  }
 ],
 "metadata": {
  "kernelspec": {
   "display_name": "Python 3 (ipykernel)",
   "language": "python",
   "name": "python3"
  },
  "language_info": {
   "codemirror_mode": {
    "name": "ipython",
    "version": 3
   },
   "file_extension": ".py",
   "mimetype": "text/x-python",
   "name": "python",
   "nbconvert_exporter": "python",
   "pygments_lexer": "ipython3",
   "version": "3.12.11"
  }
 },
 "nbformat": 4,
 "nbformat_minor": 5
}
