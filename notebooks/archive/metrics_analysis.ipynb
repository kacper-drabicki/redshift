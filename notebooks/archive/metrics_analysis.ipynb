{
 "cells": [
  {
   "cell_type": "code",
   "execution_count": 11,
   "id": "1878d51d-0e0d-418f-a7c0-d79a329d7d02",
   "metadata": {},
   "outputs": [],
   "source": [
    "import pandas as pd\n",
    "import glob\n",
    "import os\n",
    "import re"
   ]
  },
  {
   "cell_type": "code",
   "execution_count": 12,
   "id": "32dd642a-c5a8-4a06-a341-96240b563393",
   "metadata": {},
   "outputs": [],
   "source": [
    "path = r'../../metrics'"
   ]
  },
  {
   "cell_type": "code",
   "execution_count": 13,
   "id": "cccace55-ed72-4e01-9937-e4d87bf56182",
   "metadata": {},
   "outputs": [],
   "source": [
    "all_files = glob.glob(os.path.join(path, \"*.csv\"))\n",
    "\n",
    "base_names = []\n",
    "\n",
    "for path in all_files:\n",
    "    filename = path.split('/')[-1]\n",
    "    match = re.match(r'(.+)_\\d+\\.csv', filename)\n",
    "    if match:\n",
    "        base_names.append(match.group(1))"
   ]
  },
  {
   "cell_type": "code",
   "execution_count": 14,
   "id": "6ead7f57-bd0f-4c52-9c49-80cbe1c03248",
   "metadata": {},
   "outputs": [],
   "source": [
    "df_list = []\n",
    "for filename in all_files:\n",
    "       df = pd.read_csv(filename, index_col=None, header=0)\n",
    "       df_list.append(df)"
   ]
  },
  {
   "cell_type": "code",
   "execution_count": 15,
   "id": "9d44bb38-60ae-456d-8bb5-9ac1c5c03aad",
   "metadata": {},
   "outputs": [],
   "source": [
    "df = pd.concat(df_list, axis=0, ignore_index=True).rename(columns={'Unnamed: 0':'split'})"
   ]
  },
  {
   "cell_type": "code",
   "execution_count": 16,
   "id": "d56492e6-42a9-4834-b984-65787751f438",
   "metadata": {},
   "outputs": [],
   "source": [
    "df.loc[df[\"split\"] == \"faint\",\"option\"] = base_names\n",
    "df.loc[df[\"split\"] == \"test\",\"option\"] = base_names"
   ]
  },
  {
   "cell_type": "code",
   "execution_count": 17,
   "id": "45eba472-a245-4f5f-8b3e-a66b29917b90",
   "metadata": {},
   "outputs": [
    {
     "name": "stdout",
     "output_type": "stream",
     "text": [
      "TEST MSE\n",
      "Option: dg_mean_hg_stddev, MSE: 0.1114\n",
      "Option: sg_mean_stddev, MSE: 0.0936\n",
      "Option: sg_mean_stddev_dropout, MSE: 0.1247\n",
      "Option: dg_median_stddev, MSE: 0.0958\n",
      "Option: dg_mean_stddev, MSE: 0.0904\n",
      "Option: dg_mean_stddev_dropout, MSE: 0.0932\n"
     ]
    }
   ],
   "source": [
    "df_test = df.loc[df[\"split\"] == \"test\"]\n",
    "\n",
    "base_names = list(set(base_names))\n",
    "\n",
    "print(\"TEST MSE\")\n",
    "for option in base_names:\n",
    "    mean = df_test[df_test[\"option\"] == option][\"MSE\"].mean()\n",
    "    print(f\"Option: {option}, MSE: {mean:.4f}\")"
   ]
  },
  {
   "cell_type": "code",
   "execution_count": 18,
   "id": "4382e9f1-9488-4ce7-8f73-4987625c1498",
   "metadata": {},
   "outputs": [
    {
     "name": "stdout",
     "output_type": "stream",
     "text": [
      "TEST R^2\n",
      "Option: dg_mean_hg_stddev, R^2: 0.8012\n",
      "Option: sg_mean_stddev, R^2: 0.8330\n",
      "Option: sg_mean_stddev_dropout, R^2: 0.7775\n",
      "Option: dg_median_stddev, R^2: 0.8290\n",
      "Option: dg_mean_stddev, R^2: 0.8386\n",
      "Option: dg_mean_stddev_dropout, R^2: 0.8336\n"
     ]
    }
   ],
   "source": [
    "print(\"TEST R^2\")\n",
    "for option in base_names:\n",
    "    mean = df_test[df_test[\"option\"] == option][\"R^2\"].mean()\n",
    "    print(f\"Option: {option}, R^2: {mean:.4f}\")"
   ]
  },
  {
   "cell_type": "code",
   "execution_count": 19,
   "id": "48277b28-72fb-498a-845e-8737a4873810",
   "metadata": {},
   "outputs": [
    {
     "name": "stdout",
     "output_type": "stream",
     "text": [
      "FAINT MSE\n",
      "Option: dg_mean_hg_stddev, MSE: 0.2496\n",
      "Option: sg_mean_stddev, MSE: 0.2100\n",
      "Option: sg_mean_stddev_dropout, MSE: 0.2707\n",
      "Option: dg_median_stddev, MSE: 0.2182\n",
      "Option: dg_mean_stddev, MSE: 0.2182\n",
      "Option: dg_mean_stddev_dropout, MSE: 0.2110\n"
     ]
    }
   ],
   "source": [
    "df_faint = df.loc[df[\"split\"] == \"faint\"]\n",
    "print(\"FAINT MSE\")\n",
    "for option in base_names:\n",
    "    mean = df_faint[df_faint[\"option\"] == option][\"MSE\"].mean()\n",
    "    print(f\"Option: {option}, MSE: {mean:.4f}\")"
   ]
  },
  {
   "cell_type": "code",
   "execution_count": 20,
   "id": "caae51b8-6bb5-48d1-b88f-18f7b80a146c",
   "metadata": {},
   "outputs": [
    {
     "name": "stdout",
     "output_type": "stream",
     "text": [
      "FAINT R^2\n",
      "Option: dg_mean_hg_stddev, R^2: 0.2688\n",
      "Option: sg_mean_stddev, R^2: 0.3848\n",
      "Option: sg_mean_stddev_dropout, R^2: 0.2069\n",
      "Option: dg_median_stddev, R^2: 0.3607\n",
      "Option: dg_mean_stddev, R^2: 0.3608\n",
      "Option: dg_mean_stddev_dropout, R^2: 0.3819\n"
     ]
    }
   ],
   "source": [
    "print(\"FAINT R^2\")\n",
    "for option in base_names:\n",
    "    mean = df_faint[df_faint[\"option\"] == option][\"R^2\"].mean()\n",
    "    print(f\"Option: {option}, R^2: {mean:.4f}\")"
   ]
  },
  {
   "cell_type": "code",
   "execution_count": null,
   "id": "36edfc74-41d0-4b4b-a207-26da2445eceb",
   "metadata": {},
   "outputs": [],
   "source": []
  }
 ],
 "metadata": {
  "kernelspec": {
   "display_name": "Python 3 (ipykernel)",
   "language": "python",
   "name": "python3"
  },
  "language_info": {
   "codemirror_mode": {
    "name": "ipython",
    "version": 3
   },
   "file_extension": ".py",
   "mimetype": "text/x-python",
   "name": "python",
   "nbconvert_exporter": "python",
   "pygments_lexer": "ipython3",
   "version": "3.12.11"
  }
 },
 "nbformat": 4,
 "nbformat_minor": 5
}
