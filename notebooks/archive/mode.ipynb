{
 "cells": [
  {
   "cell_type": "code",
   "execution_count": 3,
   "id": "642d34da-345a-4936-a4c4-987a88a6110a",
   "metadata": {},
   "outputs": [],
   "source": [
    "import sys\n",
    "sys.path.append(\"..\")\n",
    "\n",
    "import pandas as pd\n",
    "import numpy as np\n",
    "import matplotlib.pyplot as plt\n",
    "import data_frame\n",
    "import tensorflow as tf\n",
    "import tensorflow_probability as tfp\n",
    "import tf_keras\n",
    "import models\n",
    "from sklearn.preprocessing import StandardScaler\n",
    "from scipy.optimize import minimize_scalar"
   ]
  },
  {
   "cell_type": "code",
   "execution_count": 5,
   "id": "007e72d4-a4bd-45a8-bf15-f83c277db458",
   "metadata": {},
   "outputs": [],
   "source": [
    "filePath = \"../KiDS-DR5-WCScut_x_DESI-DR1-small.fits\"\n",
    "\n",
    "df = data_frame.DataFrame(filePath, \"QSO\", data_frame.MaxFiller())\n",
    "X_train, y_train = df.get_train_dataset()\n",
    "X_test, y_test = df.get_test_dataset()\n",
    "\n",
    "scaler = StandardScaler()\n",
    "scaler.fit(X_train)\n",
    "\n",
    "X_test = scaler.transform(X_test)"
   ]
  },
  {
   "cell_type": "code",
   "execution_count": 35,
   "id": "6ac16732-0964-4acc-9853-34e47e643d3d",
   "metadata": {},
   "outputs": [],
   "source": [
    "config = {\"num_components\": 3}\n",
    "\n",
    "all_models = []\n",
    "for i in range(1, 6):\n",
    "    model_path = f\"../models/experiment2/MG_{config[\"num_components\"]}_components_{i}/variables/variables\"\n",
    "    model = models.MLModelContext(strategy=models.MixtureGaussian(df, config)).strategy.network\n",
    "    model.load_weights(model_path)\n",
    "    all_models.append(model)\n",
    "\n",
    "distributions = []\n",
    "for model in all_models:\n",
    "    distributions.append(model(X_test))"
   ]
  },
  {
   "cell_type": "code",
   "execution_count": 111,
   "id": "f96512ec-c5e1-430c-a298-aab641fa4c61",
   "metadata": {},
   "outputs": [],
   "source": [
    "dist = distributions[0]\n",
    "grid = np.arange(-1, 10, 0.01)\n",
    "eval_grid = []\n",
    "for point in grid:\n",
    "    eval_grid.append(dist.log_prob(point).numpy())\n",
    "eval_grid = np.array(eval_grid).T"
   ]
  },
  {
   "cell_type": "code",
   "execution_count": 112,
   "id": "3581a6e9-b73f-4e0e-a541-cc2505cac29d",
   "metadata": {},
   "outputs": [],
   "source": [
    "modes_idx = np.argmax(eval_grid, axis=1)"
   ]
  },
  {
   "cell_type": "code",
   "execution_count": 113,
   "id": "9409c800-9c77-4fd8-aa58-a0f0fb69880c",
   "metadata": {},
   "outputs": [
    {
     "data": {
      "text/plain": [
       "array([1.52, 1.5 , 1.91, 2.47, 2.52, 2.42, 0.86, 2.27, 1.08, 1.98])"
      ]
     },
     "execution_count": 113,
     "metadata": {},
     "output_type": "execute_result"
    }
   ],
   "source": [
    "grid[modes_idx][:10]"
   ]
  },
  {
   "cell_type": "code",
   "execution_count": 114,
   "id": "0e0fca63-159b-4877-b456-7cb60955fbf4",
   "metadata": {},
   "outputs": [
    {
     "data": {
      "text/plain": [
       "0.05165287889774262"
      ]
     },
     "execution_count": 114,
     "metadata": {},
     "output_type": "execute_result"
    }
   ],
   "source": [
    "df.data[df.data[\"split\"]==\"test\"][\"Z\"].min()"
   ]
  },
  {
   "cell_type": "code",
   "execution_count": null,
   "id": "0bd05283-ec98-4d68-bee2-40b49cdd8131",
   "metadata": {},
   "outputs": [],
   "source": []
  }
 ],
 "metadata": {
  "kernelspec": {
   "display_name": "Python 3 (ipykernel)",
   "language": "python",
   "name": "python3"
  },
  "language_info": {
   "codemirror_mode": {
    "name": "ipython",
    "version": 3
   },
   "file_extension": ".py",
   "mimetype": "text/x-python",
   "name": "python",
   "nbconvert_exporter": "python",
   "pygments_lexer": "ipython3",
   "version": "3.12.11"
  }
 },
 "nbformat": 4,
 "nbformat_minor": 5
}
