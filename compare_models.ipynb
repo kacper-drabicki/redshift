{
 "cells": [
  {
   "cell_type": "code",
   "execution_count": 73,
   "id": "9b6ea552-040a-434f-99dc-5caacd2f043f",
   "metadata": {},
   "outputs": [],
   "source": [
    "import compare_models\n",
    "from compare_models import *\n",
    "import importlib"
   ]
  },
  {
   "cell_type": "code",
   "execution_count": 74,
   "id": "ec23c2cf-f181-4a45-9cde-14c5842fda8c",
   "metadata": {},
   "outputs": [],
   "source": [
    "filePath = r'../metrics'"
   ]
  },
  {
   "cell_type": "code",
   "execution_count": 78,
   "id": "a4c45b7c-b2c0-4aaf-9f1c-6722a185c0fd",
   "metadata": {},
   "outputs": [
    {
     "data": {
      "text/html": [
       "<div>\n",
       "<style scoped>\n",
       "    .dataframe tbody tr th:only-of-type {\n",
       "        vertical-align: middle;\n",
       "    }\n",
       "\n",
       "    .dataframe tbody tr th {\n",
       "        vertical-align: top;\n",
       "    }\n",
       "\n",
       "    .dataframe thead th {\n",
       "        text-align: right;\n",
       "    }\n",
       "</style>\n",
       "<table border=\"1\" class=\"dataframe\">\n",
       "  <thead>\n",
       "    <tr style=\"text-align: right;\">\n",
       "      <th></th>\n",
       "      <th>MSE</th>\n",
       "      <th>R^2</th>\n",
       "      <th>NLL</th>\n",
       "    </tr>\n",
       "    <tr>\n",
       "      <th>model_name</th>\n",
       "      <th></th>\n",
       "      <th></th>\n",
       "      <th></th>\n",
       "    </tr>\n",
       "  </thead>\n",
       "  <tbody>\n",
       "    <tr>\n",
       "      <th>dg_mean_stddev_dropout</th>\n",
       "      <td>0.093244</td>\n",
       "      <td>0.833624</td>\n",
       "      <td>0.573398</td>\n",
       "    </tr>\n",
       "    <tr>\n",
       "      <th>sg_mean_stddev</th>\n",
       "      <td>0.093570</td>\n",
       "      <td>0.833041</td>\n",
       "      <td>NaN</td>\n",
       "    </tr>\n",
       "  </tbody>\n",
       "</table>\n",
       "</div>"
      ],
      "text/plain": [
       "                             MSE       R^2       NLL\n",
       "model_name                                          \n",
       "dg_mean_stddev_dropout  0.093244  0.833624  0.573398\n",
       "sg_mean_stddev          0.093570  0.833041       NaN"
      ]
     },
     "execution_count": 78,
     "metadata": {},
     "output_type": "execute_result"
    }
   ],
   "source": [
    "importlib.reload(compare_models)\n",
    "comparator = CompareModels(filePath)\n",
    "test, faint = comparator.getResults()\n",
    "test"
   ]
  },
  {
   "cell_type": "code",
   "execution_count": 69,
   "id": "8607eb91-5feb-4a9c-bfc5-a01ffba00b8b",
   "metadata": {},
   "outputs": [
    {
     "data": {
      "text/html": [
       "<div>\n",
       "<style scoped>\n",
       "    .dataframe tbody tr th:only-of-type {\n",
       "        vertical-align: middle;\n",
       "    }\n",
       "\n",
       "    .dataframe tbody tr th {\n",
       "        vertical-align: top;\n",
       "    }\n",
       "\n",
       "    .dataframe thead th {\n",
       "        text-align: right;\n",
       "    }\n",
       "</style>\n",
       "<table border=\"1\" class=\"dataframe\">\n",
       "  <thead>\n",
       "    <tr style=\"text-align: right;\">\n",
       "      <th></th>\n",
       "      <th>MSE</th>\n",
       "      <th>R^2</th>\n",
       "      <th>NLL</th>\n",
       "    </tr>\n",
       "    <tr>\n",
       "      <th>model_name</th>\n",
       "      <th></th>\n",
       "      <th></th>\n",
       "      <th></th>\n",
       "    </tr>\n",
       "  </thead>\n",
       "  <tbody>\n",
       "    <tr>\n",
       "      <th>dg_mean_stddev_dropout</th>\n",
       "      <td>0.210995</td>\n",
       "      <td>0.381905</td>\n",
       "      <td>-0.471576</td>\n",
       "    </tr>\n",
       "    <tr>\n",
       "      <th>sg_mean_stddev</th>\n",
       "      <td>0.210022</td>\n",
       "      <td>0.384755</td>\n",
       "      <td>NaN</td>\n",
       "    </tr>\n",
       "  </tbody>\n",
       "</table>\n",
       "</div>"
      ],
      "text/plain": [
       "                             MSE       R^2       NLL\n",
       "model_name                                          \n",
       "dg_mean_stddev_dropout  0.210995  0.381905 -0.471576\n",
       "sg_mean_stddev          0.210022  0.384755       NaN"
      ]
     },
     "execution_count": 69,
     "metadata": {},
     "output_type": "execute_result"
    }
   ],
   "source": [
    "faint"
   ]
  },
  {
   "cell_type": "code",
   "execution_count": null,
   "id": "fe064fb6-92b8-4507-a91d-85ecda5491cd",
   "metadata": {},
   "outputs": [],
   "source": []
  }
 ],
 "metadata": {
  "kernelspec": {
   "display_name": "Python 3 (ipykernel)",
   "language": "python",
   "name": "python3"
  },
  "language_info": {
   "codemirror_mode": {
    "name": "ipython",
    "version": 3
   },
   "file_extension": ".py",
   "mimetype": "text/x-python",
   "name": "python",
   "nbconvert_exporter": "python",
   "pygments_lexer": "ipython3",
   "version": "3.12.11"
  }
 },
 "nbformat": 4,
 "nbformat_minor": 5
}
