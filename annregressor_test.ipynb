{
 "cells": [
  {
   "cell_type": "code",
   "execution_count": 2,
   "id": "3ae313aa-8e99-484e-911e-98cfe0624b39",
   "metadata": {},
   "outputs": [],
   "source": [
    "import data_frame\n",
    "import models\n",
    "import importlib\n",
    "import evaluator as ev"
   ]
  },
  {
   "cell_type": "code",
   "execution_count": 3,
   "id": "cae063ae-8c35-4f9c-adcd-19d7b3b8a974",
   "metadata": {},
   "outputs": [],
   "source": [
    "filePath = \"../KiDS-DR5-WCScut_x_DESI-DR1-small.fits\"\n",
    "df = data_frame.DataFrame(filePath, \"QSO\", data_frame.MaxFiller())"
   ]
  },
  {
   "cell_type": "code",
   "execution_count": 6,
   "id": "a9f9f11d-e801-4a02-b69d-6b530dee7200",
   "metadata": {},
   "outputs": [
    {
     "data": {
      "text/plain": [
       "0          20.716307\n",
       "1          21.481810\n",
       "14         20.920393\n",
       "23         22.640545\n",
       "49         20.336668\n",
       "             ...    \n",
       "2649220    22.916708\n",
       "2649223    21.824081\n",
       "2649230    20.658283\n",
       "2649258    23.034378\n",
       "2649270    21.782635\n",
       "Name: MAG_GAAP_r, Length: 157849, dtype: float32"
      ]
     },
     "execution_count": 6,
     "metadata": {},
     "output_type": "execute_result"
    }
   ],
   "source": [
    "df.data[\"MAG_GAAP_r\"]"
   ]
  },
  {
   "cell_type": "code",
   "execution_count": 4,
   "id": "5fe6ff71-6936-46e3-8edf-4b1227f811b6",
   "metadata": {},
   "outputs": [
    {
     "name": "stderr",
     "output_type": "stream",
     "text": [
      "/home/kdrabicki/anaconda3/envs/test_env/lib/python3.12/site-packages/keras/src/layers/core/dense.py:93: UserWarning: Do not pass an `input_shape`/`input_dim` argument to a layer. When using Sequential models, prefer using an `Input(shape)` object as the first layer in the model instead.\n",
      "  super().__init__(activity_regularizer=activity_regularizer, **kwargs)\n",
      "2025-07-11 11:07:19.815173: E external/local_xla/xla/stream_executor/cuda/cuda_platform.cc:51] failed call to cuInit: INTERNAL: CUDA error: Failed call to cuInit: CUDA_ERROR_INVALID_DEVICE: invalid device ordinal\n",
      "2025-07-11 11:07:19.815199: I external/local_xla/xla/stream_executor/cuda/cuda_diagnostics.cc:178] verbose logging is disabled. Rerun with verbose logging (usually --v=1 or --vmodule=cuda_diagnostics=1) to get more diagnostic output from this module\n",
      "2025-07-11 11:07:19.815204: I external/local_xla/xla/stream_executor/cuda/cuda_diagnostics.cc:183] retrieving CUDA diagnostic information for host: borsuk\n",
      "2025-07-11 11:07:19.815205: I external/local_xla/xla/stream_executor/cuda/cuda_diagnostics.cc:190] hostname: borsuk\n",
      "2025-07-11 11:07:19.815302: I external/local_xla/xla/stream_executor/cuda/cuda_diagnostics.cc:197] libcuda reported version is: 570.133.7\n",
      "2025-07-11 11:07:19.815322: I external/local_xla/xla/stream_executor/cuda/cuda_diagnostics.cc:201] kernel reported version is: 570.133.7\n",
      "2025-07-11 11:07:19.815323: I external/local_xla/xla/stream_executor/cuda/cuda_diagnostics.cc:291] kernel version seems to match DSO: 570.133.7\n"
     ]
    },
    {
     "name": "stdout",
     "output_type": "stream",
     "text": [
      "Epoch 47: early stopping\n",
      "\u001b[1m939/939\u001b[0m \u001b[32m━━━━━━━━━━━━━━━━━━━━\u001b[0m\u001b[37m\u001b[0m \u001b[1m0s\u001b[0m 337us/step\n"
     ]
    },
    {
     "name": "stderr",
     "output_type": "stream",
     "text": [
      "/home/kdrabicki/projekt/models.py:79: FutureWarning: Setting an item of incompatible dtype is deprecated and will raise an error in a future version of pandas. Value '[1.5339166 1.482104  1.9372624 ... 1.7839285 2.9863338 2.1133628]' has dtype incompatible with int64, please explicitly cast to a compatible dtype first.\n",
      "  self.dataFrame.data.loc[indexes, \"Z_pred\"] = self.network.predict(self.X_test)\n"
     ]
    }
   ],
   "source": [
    "model = models.MLModelContext(strategy=models.ANNRegressor(df))\n",
    "model.train()\n",
    "model.test_predict()"
   ]
  },
  {
   "cell_type": "code",
   "execution_count": 5,
   "id": "73aa023c-6098-46ff-998e-e7dd4c2a73ac",
   "metadata": {},
   "outputs": [
    {
     "data": {
      "text/html": [
       "<div>\n",
       "<style scoped>\n",
       "    .dataframe tbody tr th:only-of-type {\n",
       "        vertical-align: middle;\n",
       "    }\n",
       "\n",
       "    .dataframe tbody tr th {\n",
       "        vertical-align: top;\n",
       "    }\n",
       "\n",
       "    .dataframe thead th {\n",
       "        text-align: right;\n",
       "    }\n",
       "</style>\n",
       "<table border=\"1\" class=\"dataframe\">\n",
       "  <thead>\n",
       "    <tr style=\"text-align: right;\">\n",
       "      <th></th>\n",
       "      <th>MSE</th>\n",
       "      <th>R^2</th>\n",
       "      <th>Redshift error</th>\n",
       "    </tr>\n",
       "  </thead>\n",
       "  <tbody>\n",
       "    <tr>\n",
       "      <th>test</th>\n",
       "      <td>0.110607</td>\n",
       "      <td>0.802642</td>\n",
       "      <td>(0.001968873280863249, 0.13746873837642082)</td>\n",
       "    </tr>\n",
       "    <tr>\n",
       "      <th>faint</th>\n",
       "      <td>0.271168</td>\n",
       "      <td>0.205634</td>\n",
       "      <td>(-0.018698086033989477, 0.17734188362775957)</td>\n",
       "    </tr>\n",
       "  </tbody>\n",
       "</table>\n",
       "</div>"
      ],
      "text/plain": [
       "            MSE       R^2                                Redshift error\n",
       "test   0.110607  0.802642   (0.001968873280863249, 0.13746873837642082)\n",
       "faint  0.271168  0.205634  (-0.018698086033989477, 0.17734188362775957)"
      ]
     },
     "execution_count": 5,
     "metadata": {},
     "output_type": "execute_result"
    }
   ],
   "source": [
    "importlib.reload(ev)\n",
    "evaluator = ev.Evaluator(df)\n",
    "evaluator.evaluate_metrics()"
   ]
  },
  {
   "cell_type": "code",
   "execution_count": null,
   "id": "2500ff18-eb77-483d-8f7c-ece81f443bb8",
   "metadata": {},
   "outputs": [],
   "source": []
  }
 ],
 "metadata": {
  "kernelspec": {
   "display_name": "Python 3 (ipykernel)",
   "language": "python",
   "name": "python3"
  },
  "language_info": {
   "codemirror_mode": {
    "name": "ipython",
    "version": 3
   },
   "file_extension": ".py",
   "mimetype": "text/x-python",
   "name": "python",
   "nbconvert_exporter": "python",
   "pygments_lexer": "ipython3",
   "version": "3.12.11"
  }
 },
 "nbformat": 4,
 "nbformat_minor": 5
}
