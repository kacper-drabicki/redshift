{
 "cells": [
  {
   "cell_type": "code",
   "execution_count": 2,
   "id": "7964bf19-b107-4f32-bdc0-b4468ad7dfdd",
   "metadata": {},
   "outputs": [],
   "source": [
    "import sys\n",
    "\n",
    "import numpy as np\n",
    "import pandas as pd\n",
    "import matplotlib.pyplot as plt\n",
    "import seaborn as sns\n",
    "import tensorflow as tf\n",
    "import xgboost as xgb\n",
    "import random\n",
    "from sklearn.preprocessing import StandardScaler\n",
    "from sklearn.model_selection import train_test_split\n",
    "from tensorflow.keras.models import Sequential\n",
    "from tensorflow.keras.layers import Dense\n",
    "from astropy.table import Table\n",
    "from itertools import combinations\n",
    "from abc import ABC, abstractmethod\n",
    "from sklearn.metrics import mean_squared_error, r2_score\n",
    "\n",
    "sys.path.append('..')\n",
    "from data_frame import *\n",
    "from models import *\n",
    "from evaluator import *\n",
    "from metrics import *"
   ]
  },
  {
   "cell_type": "code",
   "execution_count": 3,
   "id": "46a3e10a-2b94-4a98-8d67-3e33b6e8e751",
   "metadata": {},
   "outputs": [
    {
     "name": "stderr",
     "output_type": "stream",
     "text": [
      "/home/kdrabicki/anaconda3/envs/test_env/lib/python3.12/site-packages/keras/src/layers/core/dense.py:93: UserWarning: Do not pass an `input_shape`/`input_dim` argument to a layer. When using Sequential models, prefer using an `Input(shape)` object as the first layer in the model instead.\n",
      "  super().__init__(activity_regularizer=activity_regularizer, **kwargs)\n",
      "2025-07-07 09:46:57.242893: E external/local_xla/xla/stream_executor/cuda/cuda_platform.cc:51] failed call to cuInit: INTERNAL: CUDA error: Failed call to cuInit: CUDA_ERROR_INVALID_DEVICE: invalid device ordinal\n",
      "2025-07-07 09:46:57.242918: I external/local_xla/xla/stream_executor/cuda/cuda_diagnostics.cc:178] verbose logging is disabled. Rerun with verbose logging (usually --v=1 or --vmodule=cuda_diagnostics=1) to get more diagnostic output from this module\n",
      "2025-07-07 09:46:57.242922: I external/local_xla/xla/stream_executor/cuda/cuda_diagnostics.cc:183] retrieving CUDA diagnostic information for host: borsuk\n",
      "2025-07-07 09:46:57.242923: I external/local_xla/xla/stream_executor/cuda/cuda_diagnostics.cc:190] hostname: borsuk\n",
      "2025-07-07 09:46:57.243019: I external/local_xla/xla/stream_executor/cuda/cuda_diagnostics.cc:197] libcuda reported version is: 570.133.7\n",
      "2025-07-07 09:46:57.243048: I external/local_xla/xla/stream_executor/cuda/cuda_diagnostics.cc:201] kernel reported version is: 570.133.7\n",
      "2025-07-07 09:46:57.243049: I external/local_xla/xla/stream_executor/cuda/cuda_diagnostics.cc:291] kernel version seems to match DSO: 570.133.7\n"
     ]
    },
    {
     "name": "stdout",
     "output_type": "stream",
     "text": [
      "Epoch 50: early stopping\n",
      "\u001b[1m939/939\u001b[0m \u001b[32m━━━━━━━━━━━━━━━━━━━━\u001b[0m\u001b[37m\u001b[0m \u001b[1m0s\u001b[0m 335us/step\n"
     ]
    },
    {
     "name": "stderr",
     "output_type": "stream",
     "text": [
      "/home/kdrabicki/projekt/experiment_notebooks/../models.py:75: FutureWarning: Setting an item of incompatible dtype is deprecated and will raise an error in a future version of pandas. Value '[1.5021805 1.7560955 1.8756803 ... 1.7161516 2.9244404 2.0348074]' has dtype incompatible with int64, please explicitly cast to a compatible dtype first.\n",
      "  self.dataFrame.data.loc[indexes, \"Z_pred\"] = self.network.predict(self.X_test)\n"
     ]
    },
    {
     "data": {
      "text/html": [
       "<div>\n",
       "<style scoped>\n",
       "    .dataframe tbody tr th:only-of-type {\n",
       "        vertical-align: middle;\n",
       "    }\n",
       "\n",
       "    .dataframe tbody tr th {\n",
       "        vertical-align: top;\n",
       "    }\n",
       "\n",
       "    .dataframe thead th {\n",
       "        text-align: right;\n",
       "    }\n",
       "</style>\n",
       "<table border=\"1\" class=\"dataframe\">\n",
       "  <thead>\n",
       "    <tr style=\"text-align: right;\">\n",
       "      <th></th>\n",
       "      <th>MSE</th>\n",
       "      <th>R^2</th>\n",
       "      <th>Redshift error</th>\n",
       "    </tr>\n",
       "  </thead>\n",
       "  <tbody>\n",
       "    <tr>\n",
       "      <th>test</th>\n",
       "      <td>0.104943</td>\n",
       "      <td>0.811303</td>\n",
       "      <td>(0.0024472440800018726, 0.1405652992469193)</td>\n",
       "    </tr>\n",
       "    <tr>\n",
       "      <th>faint</th>\n",
       "      <td>0.241278</td>\n",
       "      <td>0.30116</td>\n",
       "      <td>(-0.00646185253105395, 0.17506915882083116)</td>\n",
       "    </tr>\n",
       "  </tbody>\n",
       "</table>\n",
       "</div>"
      ],
      "text/plain": [
       "            MSE       R^2                               Redshift error\n",
       "test   0.104943  0.811303  (0.0024472440800018726, 0.1405652992469193)\n",
       "faint  0.241278   0.30116  (-0.00646185253105395, 0.17506915882083116)"
      ]
     },
     "execution_count": 3,
     "metadata": {},
     "output_type": "execute_result"
    }
   ],
   "source": [
    "filePath = \"../KiDS-DR5-WCScut_x_DESI-DR1-small.fits\"\n",
    "df = DataFrame(filePath, \"QSO\", MaxFiller())\n",
    "model = MLModelContext(ANNRegressor(df))\n",
    "model.train()\n",
    "model.test_predict()\n",
    "Evaluator(df).evaluate_metrics()"
   ]
  },
  {
   "cell_type": "code",
   "execution_count": 7,
   "id": "2c8e1369-fc66-4bc6-8498-cf7a32bf6724",
   "metadata": {},
   "outputs": [],
   "source": [
    "# df = DataFrame(filePath, \"GALAXY\", MaxFiller())\n",
    "# model = MLModelContext(ANNRegressor(df))\n",
    "# model.train()\n",
    "# model.test_predict()\n",
    "# Evaluator(df).evaluate_metrics()"
   ]
  },
  {
   "cell_type": "code",
   "execution_count": null,
   "id": "cd0ab6b1-6344-4001-a5e7-3529306bf01e",
   "metadata": {},
   "outputs": [],
   "source": []
  }
 ],
 "metadata": {
  "kernelspec": {
   "display_name": "Python 3 (ipykernel)",
   "language": "python",
   "name": "python3"
  },
  "language_info": {
   "codemirror_mode": {
    "name": "ipython",
    "version": 3
   },
   "file_extension": ".py",
   "mimetype": "text/x-python",
   "name": "python",
   "nbconvert_exporter": "python",
   "pygments_lexer": "ipython3",
   "version": "3.12.11"
  }
 },
 "nbformat": 4,
 "nbformat_minor": 5
}
