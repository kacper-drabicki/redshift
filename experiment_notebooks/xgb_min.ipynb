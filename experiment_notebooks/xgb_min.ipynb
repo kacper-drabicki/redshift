{
 "cells": [
  {
   "cell_type": "code",
   "execution_count": 2,
   "id": "7964bf19-b107-4f32-bdc0-b4468ad7dfdd",
   "metadata": {},
   "outputs": [],
   "source": [
    "import sys\n",
    "\n",
    "import numpy as np\n",
    "import pandas as pd\n",
    "import matplotlib.pyplot as plt\n",
    "import seaborn as sns\n",
    "import tensorflow as tf\n",
    "import xgboost as xgb\n",
    "import random\n",
    "from sklearn.preprocessing import StandardScaler\n",
    "from sklearn.model_selection import train_test_split\n",
    "from tensorflow.keras.models import Sequential\n",
    "from tensorflow.keras.layers import Dense\n",
    "from astropy.table import Table\n",
    "from itertools import combinations\n",
    "from abc import ABC, abstractmethod\n",
    "from sklearn.metrics import mean_squared_error, r2_score\n",
    "\n",
    "sys.path.append('..')\n",
    "from data_frame import *\n",
    "from models import *\n",
    "from evaluator import *\n",
    "from metrics import *"
   ]
  },
  {
   "cell_type": "code",
   "execution_count": 3,
   "id": "46a3e10a-2b94-4a98-8d67-3e33b6e8e751",
   "metadata": {},
   "outputs": [
    {
     "name": "stderr",
     "output_type": "stream",
     "text": [
      "/home/kdrabicki/projekt/experiment_notebooks/../models.py:35: FutureWarning: Setting an item of incompatible dtype is deprecated and will raise an error in a future version of pandas. Value '[1.4508862 1.5034777 2.0991502 ... 1.8862921 2.738398  2.28731  ]' has dtype incompatible with int64, please explicitly cast to a compatible dtype first.\n",
      "  self.dataFrame.data.loc[self.X_test.index, \"Z_pred\"] = self.model.predict(self.X_test)\n"
     ]
    },
    {
     "data": {
      "text/html": [
       "<div>\n",
       "<style scoped>\n",
       "    .dataframe tbody tr th:only-of-type {\n",
       "        vertical-align: middle;\n",
       "    }\n",
       "\n",
       "    .dataframe tbody tr th {\n",
       "        vertical-align: top;\n",
       "    }\n",
       "\n",
       "    .dataframe thead th {\n",
       "        text-align: right;\n",
       "    }\n",
       "</style>\n",
       "<table border=\"1\" class=\"dataframe\">\n",
       "  <thead>\n",
       "    <tr style=\"text-align: right;\">\n",
       "      <th></th>\n",
       "      <th>MSE</th>\n",
       "      <th>R^2</th>\n",
       "      <th>Redshift error</th>\n",
       "    </tr>\n",
       "  </thead>\n",
       "  <tbody>\n",
       "    <tr>\n",
       "      <th>test</th>\n",
       "      <td>0.10594</td>\n",
       "      <td>0.81097</td>\n",
       "      <td>(0.014723648906056165, 0.1405262410116934)</td>\n",
       "    </tr>\n",
       "    <tr>\n",
       "      <th>faint</th>\n",
       "      <td>0.268098</td>\n",
       "      <td>0.214627</td>\n",
       "      <td>(0.03776449950658682, 0.18729396256555852)</td>\n",
       "    </tr>\n",
       "  </tbody>\n",
       "</table>\n",
       "</div>"
      ],
      "text/plain": [
       "            MSE       R^2                              Redshift error\n",
       "test    0.10594   0.81097  (0.014723648906056165, 0.1405262410116934)\n",
       "faint  0.268098  0.214627  (0.03776449950658682, 0.18729396256555852)"
      ]
     },
     "execution_count": 3,
     "metadata": {},
     "output_type": "execute_result"
    }
   ],
   "source": [
    "filePath = \"../KiDS-DR5-WCScut_x_DESI-DR1-small.fits\"\n",
    "df = DataFrame(filePath, \"QSO\", MinFiller())\n",
    "model = MLModelContext(XGBRegressor(df))\n",
    "model.train()\n",
    "model.test_predict()\n",
    "Evaluator(df).evaluate_metrics()"
   ]
  },
  {
   "cell_type": "code",
   "execution_count": 4,
   "id": "2c8e1369-fc66-4bc6-8498-cf7a32bf6724",
   "metadata": {},
   "outputs": [
    {
     "name": "stderr",
     "output_type": "stream",
     "text": [
      "/home/kdrabicki/projekt/experiment_notebooks/../data_frame.py:72: FutureWarning: Downcasting behavior in `replace` is deprecated and will be removed in a future version. To retain the old behavior, explicitly call `result.infer_objects(copy=False)`. To opt-in to the future behavior, set `pd.set_option('future.no_silent_downcasting', True)`\n",
      "  self.data = self.data.replace(VALUES_TO_FILL, np.nan)\n",
      "/home/kdrabicki/projekt/experiment_notebooks/../models.py:35: FutureWarning: Setting an item of incompatible dtype is deprecated and will raise an error in a future version of pandas. Value '[0.9624655  0.3662332  0.14578432 ... 1.230982   1.0711691  0.1173443 ]' has dtype incompatible with int64, please explicitly cast to a compatible dtype first.\n",
      "  self.dataFrame.data.loc[self.X_test.index, \"Z_pred\"] = self.model.predict(self.X_test)\n"
     ]
    },
    {
     "data": {
      "text/html": [
       "<div>\n",
       "<style scoped>\n",
       "    .dataframe tbody tr th:only-of-type {\n",
       "        vertical-align: middle;\n",
       "    }\n",
       "\n",
       "    .dataframe tbody tr th {\n",
       "        vertical-align: top;\n",
       "    }\n",
       "\n",
       "    .dataframe thead th {\n",
       "        text-align: right;\n",
       "    }\n",
       "</style>\n",
       "<table border=\"1\" class=\"dataframe\">\n",
       "  <thead>\n",
       "    <tr style=\"text-align: right;\">\n",
       "      <th></th>\n",
       "      <th>MSE</th>\n",
       "      <th>R^2</th>\n",
       "      <th>Redshift error</th>\n",
       "    </tr>\n",
       "  </thead>\n",
       "  <tbody>\n",
       "    <tr>\n",
       "      <th>test</th>\n",
       "      <td>0.027328</td>\n",
       "      <td>0.851214</td>\n",
       "      <td>(0.008764991488810096, 0.10444001774504577)</td>\n",
       "    </tr>\n",
       "    <tr>\n",
       "      <th>faint</th>\n",
       "      <td>0.073767</td>\n",
       "      <td>0.15958</td>\n",
       "      <td>(0.014283466515348345, 0.17247720987708665)</td>\n",
       "    </tr>\n",
       "  </tbody>\n",
       "</table>\n",
       "</div>"
      ],
      "text/plain": [
       "            MSE       R^2                               Redshift error\n",
       "test   0.027328  0.851214  (0.008764991488810096, 0.10444001774504577)\n",
       "faint  0.073767   0.15958  (0.014283466515348345, 0.17247720987708665)"
      ]
     },
     "execution_count": 4,
     "metadata": {},
     "output_type": "execute_result"
    }
   ],
   "source": [
    "df = DataFrame(filePath, \"GALAXY\", MinFiller())\n",
    "model = MLModelContext(XGBRegressor(df))\n",
    "model.train()\n",
    "model.test_predict()\n",
    "Evaluator(df).evaluate_metrics()"
   ]
  },
  {
   "cell_type": "code",
   "execution_count": null,
   "id": "ef517a49-a0e3-4f91-9570-465158ba2139",
   "metadata": {},
   "outputs": [],
   "source": []
  }
 ],
 "metadata": {
  "kernelspec": {
   "display_name": "Python 3 (ipykernel)",
   "language": "python",
   "name": "python3"
  },
  "language_info": {
   "codemirror_mode": {
    "name": "ipython",
    "version": 3
   },
   "file_extension": ".py",
   "mimetype": "text/x-python",
   "name": "python",
   "nbconvert_exporter": "python",
   "pygments_lexer": "ipython3",
   "version": "3.12.11"
  }
 },
 "nbformat": 4,
 "nbformat_minor": 5
}
